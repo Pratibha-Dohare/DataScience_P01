{
 "cells": [
  {
   "cell_type": "markdown",
   "id": "b07ddb7c",
   "metadata": {},
   "source": [
    "# name, std and division, roll no, any 3 sub, %"
   ]
  },
  {
   "cell_type": "code",
   "execution_count": 2,
   "id": "5ad77491",
   "metadata": {},
   "outputs": [
    {
     "name": "stdout",
     "output_type": "stream",
     "text": [
      "Enter the name of student: pratibha dohare\n",
      "Enter the standard in which student is studying: 10\n",
      "Enter the division in which you are studyingB\n",
      "Enter the roll number of student: 93\n",
      "Enter the marks of student in hindi: 99\n",
      "Enter the marks of student in english: 91\n",
      "Enter the marks of student in science: 89\n",
      "\n",
      "\n",
      "Percentage of pratibha dohare in class 10 is: 93.0%\n",
      "All the best\n"
     ]
    }
   ],
   "source": [
    "#finding percentage of students , data taken from user\n",
    "\n",
    "name=str(input(\"Enter the name of student: \"))                           #enter the name,class, roll no of student\n",
    "clas =input(\"Enter the standard in which student is studying: \")\n",
    "div =input(\"Enter the division in which you are studying\")\n",
    "roll =input(\"Enter the roll number of student: \")\n",
    "\n",
    "mark1=int(input(\"Enter the marks of student in hindi: \"))             #enter the marks of student in 3 subjects\n",
    "mark2=int(input(\"Enter the marks of student in english: \"))\n",
    "mark3=int(input(\"Enter the marks of student in science: \"))\n",
    "\n",
    "sum=mark1+mark2+mark3                                             #total marks in 3 subjets\n",
    "\n",
    "per=sum/300*100                                                 #percentage of student where one subject consistes of 100 marks\n",
    "\n",
    "print(\"\\n\\nPercentage of \" + name +\" in class \"+str(clas)+ \" is: \" +str(per)+\"%\")\n",
    "print(\"All the best\")\n"
   ]
  },
  {
   "cell_type": "code",
   "execution_count": null,
   "id": "a27f874b",
   "metadata": {},
   "outputs": [],
   "source": []
  }
 ],
 "metadata": {
  "kernelspec": {
   "display_name": "Python 3 (ipykernel)",
   "language": "python",
   "name": "python3"
  },
  "language_info": {
   "codemirror_mode": {
    "name": "ipython",
    "version": 3
   },
   "file_extension": ".py",
   "mimetype": "text/x-python",
   "name": "python",
   "nbconvert_exporter": "python",
   "pygments_lexer": "ipython3",
   "version": "3.9.7"
  }
 },
 "nbformat": 4,
 "nbformat_minor": 5
}
